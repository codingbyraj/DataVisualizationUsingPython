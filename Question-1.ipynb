{
 "cells": [
  {
   "cell_type": "code",
   "execution_count": 1,
   "metadata": {},
   "outputs": [],
   "source": [
    "# top 10 scorer\n",
    "\n",
    "\n",
    "import pandas as pd\n",
    "import matplotlib.pyplot as plt\n",
    "from matplotlib.ticker import MaxNLocator"
   ]
  },
  {
   "cell_type": "code",
   "execution_count": 14,
   "metadata": {},
   "outputs": [],
   "source": [
    "xls = pd.ExcelFile('DataTales.xlsx')\n",
    "test_scores = pd.read_excel(xls, 'Test scores')\n",
    "test_master = pd.read_excel(xls, 'Test master')"
   ]
  },
  {
   "cell_type": "code",
   "execution_count": 15,
   "metadata": {},
   "outputs": [
    {
     "data": {
      "text/html": [
       "<div>\n",
       "<style scoped>\n",
       "    .dataframe tbody tr th:only-of-type {\n",
       "        vertical-align: middle;\n",
       "    }\n",
       "\n",
       "    .dataframe tbody tr th {\n",
       "        vertical-align: top;\n",
       "    }\n",
       "\n",
       "    .dataframe thead th {\n",
       "        text-align: right;\n",
       "    }\n",
       "</style>\n",
       "<table border=\"1\" class=\"dataframe\">\n",
       "  <thead>\n",
       "    <tr style=\"text-align: right;\">\n",
       "      <th></th>\n",
       "      <th>Participant identifier</th>\n",
       "      <th>Test Name</th>\n",
       "      <th>Test taken date</th>\n",
       "      <th>Track</th>\n",
       "      <th>Designation</th>\n",
       "      <th>Score</th>\n",
       "    </tr>\n",
       "  </thead>\n",
       "  <tbody>\n",
       "    <tr>\n",
       "      <th>0</th>\n",
       "      <td>37MCTM</td>\n",
       "      <td>If conditional</td>\n",
       "      <td>2018-11-23</td>\n",
       "      <td>Engineering</td>\n",
       "      <td>Lead</td>\n",
       "      <td>18</td>\n",
       "    </tr>\n",
       "    <tr>\n",
       "      <th>1</th>\n",
       "      <td>37MCTM</td>\n",
       "      <td>Determiners and Quantifiers</td>\n",
       "      <td>2018-11-23</td>\n",
       "      <td>Engineering</td>\n",
       "      <td>Lead</td>\n",
       "      <td>28</td>\n",
       "    </tr>\n",
       "    <tr>\n",
       "      <th>2</th>\n",
       "      <td>37MCTM</td>\n",
       "      <td>Modals</td>\n",
       "      <td>2018-11-23</td>\n",
       "      <td>Engineering</td>\n",
       "      <td>Lead</td>\n",
       "      <td>22</td>\n",
       "    </tr>\n",
       "    <tr>\n",
       "      <th>3</th>\n",
       "      <td>37MCTM</td>\n",
       "      <td>Tenses</td>\n",
       "      <td>2018-11-13</td>\n",
       "      <td>Engineering</td>\n",
       "      <td>Lead</td>\n",
       "      <td>12</td>\n",
       "    </tr>\n",
       "    <tr>\n",
       "      <th>4</th>\n",
       "      <td>37MCTM</td>\n",
       "      <td>Pronouns</td>\n",
       "      <td>2018-11-13</td>\n",
       "      <td>Engineering</td>\n",
       "      <td>Lead</td>\n",
       "      <td>15</td>\n",
       "    </tr>\n",
       "  </tbody>\n",
       "</table>\n",
       "</div>"
      ],
      "text/plain": [
       "  Participant identifier                    Test Name Test taken date  \\\n",
       "0                 37MCTM               If conditional      2018-11-23   \n",
       "1                 37MCTM  Determiners and Quantifiers      2018-11-23   \n",
       "2                 37MCTM                       Modals      2018-11-23   \n",
       "3                 37MCTM                       Tenses      2018-11-13   \n",
       "4                 37MCTM                     Pronouns      2018-11-13   \n",
       "\n",
       "         Track Designation  Score  \n",
       "0  Engineering        Lead     18  \n",
       "1  Engineering        Lead     28  \n",
       "2  Engineering        Lead     22  \n",
       "3  Engineering        Lead     12  \n",
       "4  Engineering        Lead     15  "
      ]
     },
     "execution_count": 15,
     "metadata": {},
     "output_type": "execute_result"
    }
   ],
   "source": [
    "test_scores.head()"
   ]
  },
  {
   "cell_type": "code",
   "execution_count": 16,
   "metadata": {},
   "outputs": [],
   "source": [
    "total_individual = test_scores.groupby(['Participant identifier'])[['Score']].sum()\n",
    "# len (total_individual) # 1038\n",
    "# sample = total_individual[0:10]"
   ]
  },
  {
   "cell_type": "code",
   "execution_count": 17,
   "metadata": {},
   "outputs": [],
   "source": [
    "total_individual =  total_individual.sort_values(by=['Score'],ascending=False)"
   ]
  },
  {
   "cell_type": "code",
   "execution_count": 18,
   "metadata": {},
   "outputs": [
    {
     "data": {
      "text/html": [
       "<div>\n",
       "<style scoped>\n",
       "    .dataframe tbody tr th:only-of-type {\n",
       "        vertical-align: middle;\n",
       "    }\n",
       "\n",
       "    .dataframe tbody tr th {\n",
       "        vertical-align: top;\n",
       "    }\n",
       "\n",
       "    .dataframe thead th {\n",
       "        text-align: right;\n",
       "    }\n",
       "</style>\n",
       "<table border=\"1\" class=\"dataframe\">\n",
       "  <thead>\n",
       "    <tr style=\"text-align: right;\">\n",
       "      <th></th>\n",
       "      <th>Score</th>\n",
       "    </tr>\n",
       "    <tr>\n",
       "      <th>Participant identifier</th>\n",
       "      <th></th>\n",
       "    </tr>\n",
       "  </thead>\n",
       "  <tbody>\n",
       "    <tr>\n",
       "      <th>70YKNP</th>\n",
       "      <td>435</td>\n",
       "    </tr>\n",
       "    <tr>\n",
       "      <th>78MWRF</th>\n",
       "      <td>435</td>\n",
       "    </tr>\n",
       "    <tr>\n",
       "      <th>87WUXS</th>\n",
       "      <td>434</td>\n",
       "    </tr>\n",
       "    <tr>\n",
       "      <th>91IETE</th>\n",
       "      <td>430</td>\n",
       "    </tr>\n",
       "    <tr>\n",
       "      <th>21BNHA</th>\n",
       "      <td>427</td>\n",
       "    </tr>\n",
       "    <tr>\n",
       "      <th>89OZLQ</th>\n",
       "      <td>422</td>\n",
       "    </tr>\n",
       "    <tr>\n",
       "      <th>96JYRB</th>\n",
       "      <td>418</td>\n",
       "    </tr>\n",
       "    <tr>\n",
       "      <th>97VUYD</th>\n",
       "      <td>418</td>\n",
       "    </tr>\n",
       "    <tr>\n",
       "      <th>61XYAN</th>\n",
       "      <td>418</td>\n",
       "    </tr>\n",
       "    <tr>\n",
       "      <th>38ZWQB</th>\n",
       "      <td>417</td>\n",
       "    </tr>\n",
       "  </tbody>\n",
       "</table>\n",
       "</div>"
      ],
      "text/plain": [
       "                        Score\n",
       "Participant identifier       \n",
       "70YKNP                    435\n",
       "78MWRF                    435\n",
       "87WUXS                    434\n",
       "91IETE                    430\n",
       "21BNHA                    427\n",
       "89OZLQ                    422\n",
       "96JYRB                    418\n",
       "97VUYD                    418\n",
       "61XYAN                    418\n",
       "38ZWQB                    417"
      ]
     },
     "execution_count": 18,
     "metadata": {},
     "output_type": "execute_result"
    }
   ],
   "source": [
    "total_individual[0:10]"
   ]
  },
  {
   "cell_type": "code",
   "execution_count": 87,
   "metadata": {},
   "outputs": [],
   "source": [
    "total_marks = 0;\n",
    "for index, row in test_master.iterrows():    \n",
    "    total_marks += row['No. of questions'] * row['Marks per question']"
   ]
  },
  {
   "cell_type": "code",
   "execution_count": 88,
   "metadata": {},
   "outputs": [
    {
     "data": {
      "text/plain": [
       "480"
      ]
     },
     "execution_count": 88,
     "metadata": {},
     "output_type": "execute_result"
    }
   ],
   "source": [
    "total_marks"
   ]
  },
  {
   "cell_type": "code",
   "execution_count": 89,
   "metadata": {},
   "outputs": [],
   "source": [
    "individual_percentage = []\n",
    "for identifier, score in total_individual.iterrows():        \n",
    "    individual_data = []\n",
    "    individual_data.append(identifier)\n",
    "    individual_data.append(score.values[0])\n",
    "    percentage = score.values[0] / total_marks * 100\n",
    "    individual_data.append(round(percentage,2))\n",
    "    individual_percentage.append(individual_data)"
   ]
  },
  {
   "cell_type": "code",
   "execution_count": 90,
   "metadata": {},
   "outputs": [],
   "source": [
    "top_ten = individual_percentage[0:10]"
   ]
  },
  {
   "cell_type": "code",
   "execution_count": 91,
   "metadata": {},
   "outputs": [],
   "source": [
    "top_ten_zip = zip(*top_ten)"
   ]
  },
  {
   "cell_type": "code",
   "execution_count": 92,
   "metadata": {},
   "outputs": [
    {
     "data": {
      "text/plain": [
       "['70YKNP',\n",
       " '78MWRF',\n",
       " '87WUXS',\n",
       " '91IETE',\n",
       " '21BNHA',\n",
       " '89OZLQ',\n",
       " '96JYRB',\n",
       " '97VUYD',\n",
       " '61XYAN',\n",
       " '38ZWQB']"
      ]
     },
     "execution_count": 92,
     "metadata": {},
     "output_type": "execute_result"
    }
   ],
   "source": [
    "a = list(top_ten_zip)\n",
    "list(a[0])"
   ]
  },
  {
   "cell_type": "code",
   "execution_count": 93,
   "metadata": {},
   "outputs": [
    {
     "data": {
      "text/plain": [
       "[435, 435, 434, 430, 427, 422, 418, 418, 418, 417]"
      ]
     },
     "execution_count": 93,
     "metadata": {},
     "output_type": "execute_result"
    }
   ],
   "source": [
    "names = list(a[0])\n",
    "names\n",
    "marks = list(a[1])\n",
    "marks"
   ]
  },
  {
   "cell_type": "code",
   "execution_count": 94,
   "metadata": {},
   "outputs": [],
   "source": [
    "all_data = zip(names, marks)\n",
    "all_data = list(all_data)"
   ]
  },
  {
   "cell_type": "code",
   "execution_count": 95,
   "metadata": {},
   "outputs": [
    {
     "data": {
      "text/plain": [
       "[['70YKNP', 435],\n",
       " ['78MWRF', 435],\n",
       " ['87WUXS', 434],\n",
       " ['91IETE', 430],\n",
       " ['21BNHA', 427],\n",
       " ['89OZLQ', 422],\n",
       " ['96JYRB', 418],\n",
       " ['97VUYD', 418],\n",
       " ['61XYAN', 418],\n",
       " ['38ZWQB', 417]]"
      ]
     },
     "execution_count": 95,
     "metadata": {},
     "output_type": "execute_result"
    }
   ],
   "source": [
    "final_data = [list(elem) for elem in all_data]\n",
    "final_data"
   ]
  },
  {
   "cell_type": "code",
   "execution_count": 55,
   "metadata": {},
   "outputs": [],
   "source": [
    "import numpy as np\n",
    "import matplotlib.pyplot as plt\n",
    "from matplotlib.ticker import MaxNLocator\n",
    "from collections import namedtuple"
   ]
  },
  {
   "cell_type": "code",
   "execution_count": 57,
   "metadata": {},
   "outputs": [],
   "source": [
    "clust_data = np.random.random((10,3))"
   ]
  },
  {
   "cell_type": "code",
   "execution_count": 58,
   "metadata": {},
   "outputs": [
    {
     "data": {
      "text/plain": [
       "array([[0.603913  , 0.84301839, 0.06524976],\n",
       "       [0.99481659, 0.51062869, 0.5102093 ],\n",
       "       [0.35813681, 0.70250092, 0.56159767],\n",
       "       [0.25237767, 0.03020856, 0.88715714],\n",
       "       [0.23166939, 0.01955872, 0.01259333],\n",
       "       [0.30516256, 0.74112444, 0.92897434],\n",
       "       [0.33163153, 0.87223875, 0.42469481],\n",
       "       [0.08880019, 0.53404285, 0.77305271],\n",
       "       [0.70659964, 0.6767016 , 0.01931618],\n",
       "       [0.0729578 , 0.01064281, 0.76740486]])"
      ]
     },
     "execution_count": 58,
     "metadata": {},
     "output_type": "execute_result"
    }
   ],
   "source": [
    "clust_data"
   ]
  },
  {
   "cell_type": "code",
   "execution_count": 96,
   "metadata": {},
   "outputs": [
    {
     "data": {
      "text/plain": [
       "array([ 1,  2,  3,  4,  5,  6,  7,  8,  9, 10])"
      ]
     },
     "execution_count": 96,
     "metadata": {},
     "output_type": "execute_result"
    }
   ],
   "source": [
    "rank = np.arange(1,11)\n",
    "rank"
   ]
  },
  {
   "cell_type": "code",
   "execution_count": null,
   "metadata": {},
   "outputs": [],
   "source": []
  },
  {
   "cell_type": "code",
   "execution_count": null,
   "metadata": {},
   "outputs": [],
   "source": []
  }
 ],
 "metadata": {
  "kernelspec": {
   "display_name": "Python 3",
   "language": "python",
   "name": "python3"
  },
  "language_info": {
   "codemirror_mode": {
    "name": "ipython",
    "version": 3
   },
   "file_extension": ".py",
   "mimetype": "text/x-python",
   "name": "python",
   "nbconvert_exporter": "python",
   "pygments_lexer": "ipython3",
   "version": "3.6.5"
  }
 },
 "nbformat": 4,
 "nbformat_minor": 2
}
