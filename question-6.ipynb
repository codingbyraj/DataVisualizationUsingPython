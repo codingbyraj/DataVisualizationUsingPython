{
 "cells": [
  {
   "cell_type": "code",
   "execution_count": 8,
   "metadata": {},
   "outputs": [],
   "source": [
    "# No. of people attempts exam from start to end\n",
    "import pandas as pd\n",
    "import matplotlib.pyplot as plt\n",
    "import numpy as np"
   ]
  },
  {
   "cell_type": "code",
   "execution_count": 9,
   "metadata": {
    "scrolled": true
   },
   "outputs": [
    {
     "data": {
      "text/html": [
       "<div>\n",
       "<style scoped>\n",
       "    .dataframe tbody tr th:only-of-type {\n",
       "        vertical-align: middle;\n",
       "    }\n",
       "\n",
       "    .dataframe tbody tr th {\n",
       "        vertical-align: top;\n",
       "    }\n",
       "\n",
       "    .dataframe thead th {\n",
       "        text-align: right;\n",
       "    }\n",
       "</style>\n",
       "<table border=\"1\" class=\"dataframe\">\n",
       "  <thead>\n",
       "    <tr style=\"text-align: right;\">\n",
       "      <th></th>\n",
       "      <th>Participant identifier</th>\n",
       "      <th>Test Name</th>\n",
       "      <th>Test taken date</th>\n",
       "      <th>Track</th>\n",
       "      <th>Designation</th>\n",
       "      <th>Score</th>\n",
       "    </tr>\n",
       "  </thead>\n",
       "  <tbody>\n",
       "    <tr>\n",
       "      <th>0</th>\n",
       "      <td>37MCTM</td>\n",
       "      <td>If conditional</td>\n",
       "      <td>2018-11-23</td>\n",
       "      <td>Engineering</td>\n",
       "      <td>Lead</td>\n",
       "      <td>18</td>\n",
       "    </tr>\n",
       "    <tr>\n",
       "      <th>1</th>\n",
       "      <td>37MCTM</td>\n",
       "      <td>Determiners and Quantifiers</td>\n",
       "      <td>2018-11-23</td>\n",
       "      <td>Engineering</td>\n",
       "      <td>Lead</td>\n",
       "      <td>28</td>\n",
       "    </tr>\n",
       "    <tr>\n",
       "      <th>2</th>\n",
       "      <td>37MCTM</td>\n",
       "      <td>Modals</td>\n",
       "      <td>2018-11-23</td>\n",
       "      <td>Engineering</td>\n",
       "      <td>Lead</td>\n",
       "      <td>22</td>\n",
       "    </tr>\n",
       "    <tr>\n",
       "      <th>3</th>\n",
       "      <td>37MCTM</td>\n",
       "      <td>Tenses</td>\n",
       "      <td>2018-11-13</td>\n",
       "      <td>Engineering</td>\n",
       "      <td>Lead</td>\n",
       "      <td>12</td>\n",
       "    </tr>\n",
       "    <tr>\n",
       "      <th>4</th>\n",
       "      <td>37MCTM</td>\n",
       "      <td>Pronouns</td>\n",
       "      <td>2018-11-13</td>\n",
       "      <td>Engineering</td>\n",
       "      <td>Lead</td>\n",
       "      <td>15</td>\n",
       "    </tr>\n",
       "  </tbody>\n",
       "</table>\n",
       "</div>"
      ],
      "text/plain": [
       "  Participant identifier                    Test Name Test taken date  \\\n",
       "0                 37MCTM               If conditional      2018-11-23   \n",
       "1                 37MCTM  Determiners and Quantifiers      2018-11-23   \n",
       "2                 37MCTM                       Modals      2018-11-23   \n",
       "3                 37MCTM                       Tenses      2018-11-13   \n",
       "4                 37MCTM                     Pronouns      2018-11-13   \n",
       "\n",
       "         Track Designation  Score  \n",
       "0  Engineering        Lead     18  \n",
       "1  Engineering        Lead     28  \n",
       "2  Engineering        Lead     22  \n",
       "3  Engineering        Lead     12  \n",
       "4  Engineering        Lead     15  "
      ]
     },
     "execution_count": 9,
     "metadata": {},
     "output_type": "execute_result"
    }
   ],
   "source": [
    "xls = pd.ExcelFile('DataTales.xlsx')\n",
    "test_scores = pd.read_excel(xls, 'Test scores')\n",
    "test_master = pd.read_excel(xls, 'Test master')\n",
    "test_scores.head()"
   ]
  },
  {
   "cell_type": "code",
   "execution_count": 10,
   "metadata": {},
   "outputs": [],
   "source": [
    "# .size -  find the count of each group\n",
    "data = test_scores[['Test taken date']].groupby(['Test taken date']).size()"
   ]
  },
  {
   "cell_type": "code",
   "execution_count": 11,
   "metadata": {},
   "outputs": [],
   "source": [
    "datewise_exam_attems = []\n",
    "for i, d in data.items():\n",
    "    date = str(i).split(' ')[0]\n",
    "    datewise_exam_attems.append([date, d])"
   ]
  },
  {
   "cell_type": "code",
   "execution_count": 12,
   "metadata": {},
   "outputs": [],
   "source": [
    "x = [row[0] for row in datewise_exam_attems]\n",
    "y = [row [1] for row in datewise_exam_attems]"
   ]
  },
  {
   "cell_type": "code",
   "execution_count": 14,
   "metadata": {},
   "outputs": [
    {
     "data": {
      "text/plain": [
       "[1202,\n",
       " 143,\n",
       " 59,\n",
       " 535,\n",
       " 440,\n",
       " 209,\n",
       " 190,\n",
       " 142,\n",
       " 28,\n",
       " 13,\n",
       " 161,\n",
       " 63,\n",
       " 10,\n",
       " 14,\n",
       " 38,\n",
       " 9,\n",
       " 8,\n",
       " 75,\n",
       " 154,\n",
       " 123,\n",
       " 65,\n",
       " 98,\n",
       " 42,\n",
       " 52,\n",
       " 129,\n",
       " 143,\n",
       " 105,\n",
       " 58,\n",
       " 17,\n",
       " 14,\n",
       " 121,\n",
       " 111,\n",
       " 249,\n",
       " 270,\n",
       " 374,\n",
       " 96,\n",
       " 30,\n",
       " 160,\n",
       " 120,\n",
       " 133,\n",
       " 132,\n",
       " 80,\n",
       " 36,\n",
       " 21,\n",
       " 63,\n",
       " 612,\n",
       " 239,\n",
       " 331,\n",
       " 100]"
      ]
     },
     "execution_count": 14,
     "metadata": {},
     "output_type": "execute_result"
    }
   ],
   "source": [
    "y"
   ]
  },
  {
   "cell_type": "code",
   "execution_count": null,
   "metadata": {},
   "outputs": [],
   "source": []
  }
 ],
 "metadata": {
  "kernelspec": {
   "display_name": "Python 3",
   "language": "python",
   "name": "python3"
  },
  "language_info": {
   "codemirror_mode": {
    "name": "ipython",
    "version": 3
   },
   "file_extension": ".py",
   "mimetype": "text/x-python",
   "name": "python",
   "nbconvert_exporter": "python",
   "pygments_lexer": "ipython3",
   "version": "3.6.5"
  }
 },
 "nbformat": 4,
 "nbformat_minor": 2
}
