{
 "cells": [
  {
   "cell_type": "code",
   "execution_count": 3,
   "metadata": {},
   "outputs": [],
   "source": [
    "import pandas as pd"
   ]
  },
  {
   "cell_type": "code",
   "execution_count": 4,
   "metadata": {
    "scrolled": true
   },
   "outputs": [
    {
     "data": {
      "text/html": [
       "<div>\n",
       "<style scoped>\n",
       "    .dataframe tbody tr th:only-of-type {\n",
       "        vertical-align: middle;\n",
       "    }\n",
       "\n",
       "    .dataframe tbody tr th {\n",
       "        vertical-align: top;\n",
       "    }\n",
       "\n",
       "    .dataframe thead th {\n",
       "        text-align: right;\n",
       "    }\n",
       "</style>\n",
       "<table border=\"1\" class=\"dataframe\">\n",
       "  <thead>\n",
       "    <tr style=\"text-align: right;\">\n",
       "      <th></th>\n",
       "      <th>Participant identifier</th>\n",
       "      <th>Test Name</th>\n",
       "      <th>Test taken date</th>\n",
       "      <th>Track</th>\n",
       "      <th>Designation</th>\n",
       "      <th>Score</th>\n",
       "    </tr>\n",
       "  </thead>\n",
       "  <tbody>\n",
       "    <tr>\n",
       "      <th>0</th>\n",
       "      <td>37MCTM</td>\n",
       "      <td>If conditional</td>\n",
       "      <td>2018-11-23</td>\n",
       "      <td>Engineering</td>\n",
       "      <td>Lead</td>\n",
       "      <td>18</td>\n",
       "    </tr>\n",
       "    <tr>\n",
       "      <th>1</th>\n",
       "      <td>37MCTM</td>\n",
       "      <td>Determiners and Quantifiers</td>\n",
       "      <td>2018-11-23</td>\n",
       "      <td>Engineering</td>\n",
       "      <td>Lead</td>\n",
       "      <td>28</td>\n",
       "    </tr>\n",
       "    <tr>\n",
       "      <th>2</th>\n",
       "      <td>37MCTM</td>\n",
       "      <td>Modals</td>\n",
       "      <td>2018-11-23</td>\n",
       "      <td>Engineering</td>\n",
       "      <td>Lead</td>\n",
       "      <td>22</td>\n",
       "    </tr>\n",
       "    <tr>\n",
       "      <th>3</th>\n",
       "      <td>37MCTM</td>\n",
       "      <td>Tenses</td>\n",
       "      <td>2018-11-13</td>\n",
       "      <td>Engineering</td>\n",
       "      <td>Lead</td>\n",
       "      <td>12</td>\n",
       "    </tr>\n",
       "    <tr>\n",
       "      <th>4</th>\n",
       "      <td>37MCTM</td>\n",
       "      <td>Pronouns</td>\n",
       "      <td>2018-11-13</td>\n",
       "      <td>Engineering</td>\n",
       "      <td>Lead</td>\n",
       "      <td>15</td>\n",
       "    </tr>\n",
       "  </tbody>\n",
       "</table>\n",
       "</div>"
      ],
      "text/plain": [
       "  Participant identifier                    Test Name Test taken date  \\\n",
       "0                 37MCTM               If conditional      2018-11-23   \n",
       "1                 37MCTM  Determiners and Quantifiers      2018-11-23   \n",
       "2                 37MCTM                       Modals      2018-11-23   \n",
       "3                 37MCTM                       Tenses      2018-11-13   \n",
       "4                 37MCTM                     Pronouns      2018-11-13   \n",
       "\n",
       "         Track Designation  Score  \n",
       "0  Engineering        Lead     18  \n",
       "1  Engineering        Lead     28  \n",
       "2  Engineering        Lead     22  \n",
       "3  Engineering        Lead     12  \n",
       "4  Engineering        Lead     15  "
      ]
     },
     "execution_count": 4,
     "metadata": {},
     "output_type": "execute_result"
    }
   ],
   "source": [
    "xls = pd.ExcelFile('DataTales.xlsx')\n",
    "test_scores = pd.read_excel(xls, 'Test scores')\n",
    "test_master = pd.read_excel(xls, 'Test master')\n",
    "test_scores.head()"
   ]
  },
  {
   "cell_type": "code",
   "execution_count": 12,
   "metadata": {},
   "outputs": [],
   "source": [
    "# .size -  find the count of each group\n",
    "data = test_scores[['Test taken date']].groupby(['Test taken date']).size()"
   ]
  },
  {
   "cell_type": "code",
   "execution_count": 30,
   "metadata": {},
   "outputs": [],
   "source": [
    "datewise_exam_attems = []\n",
    "for i, d in data.items():\n",
    "    datewise_exam_attems.append([i, d])"
   ]
  },
  {
   "cell_type": "code",
   "execution_count": 33,
   "metadata": {},
   "outputs": [
    {
     "data": {
      "text/plain": [
       "[[Timestamp('2018-10-26 00:00:00'), 1202],\n",
       " [Timestamp('2018-10-27 00:00:00'), 143],\n",
       " [Timestamp('2018-10-28 00:00:00'), 59],\n",
       " [Timestamp('2018-10-29 00:00:00'), 535],\n",
       " [Timestamp('2018-10-30 00:00:00'), 440],\n",
       " [Timestamp('2018-10-31 00:00:00'), 209],\n",
       " [Timestamp('2018-11-01 00:00:00'), 190],\n",
       " [Timestamp('2018-11-02 00:00:00'), 142],\n",
       " [Timestamp('2018-11-03 00:00:00'), 28],\n",
       " [Timestamp('2018-11-04 00:00:00'), 13],\n",
       " [Timestamp('2018-11-05 00:00:00'), 161],\n",
       " [Timestamp('2018-11-06 00:00:00'), 63],\n",
       " [Timestamp('2018-11-07 00:00:00'), 10],\n",
       " [Timestamp('2018-11-08 00:00:00'), 14],\n",
       " [Timestamp('2018-11-09 00:00:00'), 38],\n",
       " [Timestamp('2018-11-10 00:00:00'), 9],\n",
       " [Timestamp('2018-11-11 00:00:00'), 8],\n",
       " [Timestamp('2018-11-12 00:00:00'), 75],\n",
       " [Timestamp('2018-11-13 00:00:00'), 154],\n",
       " [Timestamp('2018-11-14 00:00:00'), 123],\n",
       " [Timestamp('2018-11-15 00:00:00'), 65],\n",
       " [Timestamp('2018-11-16 00:00:00'), 98],\n",
       " [Timestamp('2018-11-17 00:00:00'), 42],\n",
       " [Timestamp('2018-11-19 00:00:00'), 52],\n",
       " [Timestamp('2018-11-20 00:00:00'), 129],\n",
       " [Timestamp('2018-11-21 00:00:00'), 143],\n",
       " [Timestamp('2018-11-22 00:00:00'), 105],\n",
       " [Timestamp('2018-11-23 00:00:00'), 58],\n",
       " [Timestamp('2018-11-24 00:00:00'), 17],\n",
       " [Timestamp('2018-11-25 00:00:00'), 14],\n",
       " [Timestamp('2018-11-26 00:00:00'), 121],\n",
       " [Timestamp('2018-11-27 00:00:00'), 111],\n",
       " [Timestamp('2018-11-28 00:00:00'), 249],\n",
       " [Timestamp('2018-11-29 00:00:00'), 270],\n",
       " [Timestamp('2018-11-30 00:00:00'), 374],\n",
       " [Timestamp('2018-12-01 00:00:00'), 96],\n",
       " [Timestamp('2018-12-02 00:00:00'), 30],\n",
       " [Timestamp('2018-12-03 00:00:00'), 160],\n",
       " [Timestamp('2018-12-04 00:00:00'), 120],\n",
       " [Timestamp('2018-12-05 00:00:00'), 133],\n",
       " [Timestamp('2018-12-06 00:00:00'), 132],\n",
       " [Timestamp('2018-12-07 00:00:00'), 80],\n",
       " [Timestamp('2018-12-08 00:00:00'), 36],\n",
       " [Timestamp('2018-12-09 00:00:00'), 21],\n",
       " [Timestamp('2018-12-10 00:00:00'), 63],\n",
       " [Timestamp('2018-12-11 00:00:00'), 612],\n",
       " [Timestamp('2018-12-12 00:00:00'), 239],\n",
       " [Timestamp('2018-12-13 00:00:00'), 331],\n",
       " [Timestamp('2018-12-14 00:00:00'), 100]]"
      ]
     },
     "execution_count": 33,
     "metadata": {},
     "output_type": "execute_result"
    }
   ],
   "source": [
    "datewise_exam_attems"
   ]
  }
 ],
 "metadata": {
  "kernelspec": {
   "display_name": "Python 3",
   "language": "python",
   "name": "python3"
  },
  "language_info": {
   "codemirror_mode": {
    "name": "ipython",
    "version": 3
   },
   "file_extension": ".py",
   "mimetype": "text/x-python",
   "name": "python",
   "nbconvert_exporter": "python",
   "pygments_lexer": "ipython3",
   "version": "3.6.5"
  }
 },
 "nbformat": 4,
 "nbformat_minor": 2
}
