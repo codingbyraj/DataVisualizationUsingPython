{
 "cells": [
  {
   "cell_type": "code",
   "execution_count": 1,
   "metadata": {},
   "outputs": [],
   "source": [
    "import pandas as pd"
   ]
  },
  {
   "cell_type": "code",
   "execution_count": 36,
   "metadata": {},
   "outputs": [
    {
     "data": {
      "text/html": [
       "<div>\n",
       "<style scoped>\n",
       "    .dataframe tbody tr th:only-of-type {\n",
       "        vertical-align: middle;\n",
       "    }\n",
       "\n",
       "    .dataframe tbody tr th {\n",
       "        vertical-align: top;\n",
       "    }\n",
       "\n",
       "    .dataframe thead th {\n",
       "        text-align: right;\n",
       "    }\n",
       "</style>\n",
       "<table border=\"1\" class=\"dataframe\">\n",
       "  <thead>\n",
       "    <tr style=\"text-align: right;\">\n",
       "      <th></th>\n",
       "      <th>Participant identifier</th>\n",
       "      <th>Test Name</th>\n",
       "      <th>Test taken date</th>\n",
       "      <th>Track</th>\n",
       "      <th>Designation</th>\n",
       "      <th>Score</th>\n",
       "    </tr>\n",
       "  </thead>\n",
       "  <tbody>\n",
       "    <tr>\n",
       "      <th>0</th>\n",
       "      <td>37MCTM</td>\n",
       "      <td>If conditional</td>\n",
       "      <td>2018-11-23</td>\n",
       "      <td>Engineering</td>\n",
       "      <td>Lead</td>\n",
       "      <td>18</td>\n",
       "    </tr>\n",
       "    <tr>\n",
       "      <th>1</th>\n",
       "      <td>37MCTM</td>\n",
       "      <td>Determiners and Quantifiers</td>\n",
       "      <td>2018-11-23</td>\n",
       "      <td>Engineering</td>\n",
       "      <td>Lead</td>\n",
       "      <td>28</td>\n",
       "    </tr>\n",
       "    <tr>\n",
       "      <th>2</th>\n",
       "      <td>37MCTM</td>\n",
       "      <td>Modals</td>\n",
       "      <td>2018-11-23</td>\n",
       "      <td>Engineering</td>\n",
       "      <td>Lead</td>\n",
       "      <td>22</td>\n",
       "    </tr>\n",
       "    <tr>\n",
       "      <th>3</th>\n",
       "      <td>37MCTM</td>\n",
       "      <td>Tenses</td>\n",
       "      <td>2018-11-13</td>\n",
       "      <td>Engineering</td>\n",
       "      <td>Lead</td>\n",
       "      <td>12</td>\n",
       "    </tr>\n",
       "    <tr>\n",
       "      <th>4</th>\n",
       "      <td>37MCTM</td>\n",
       "      <td>Pronouns</td>\n",
       "      <td>2018-11-13</td>\n",
       "      <td>Engineering</td>\n",
       "      <td>Lead</td>\n",
       "      <td>15</td>\n",
       "    </tr>\n",
       "  </tbody>\n",
       "</table>\n",
       "</div>"
      ],
      "text/plain": [
       "  Participant identifier                    Test Name Test taken date  \\\n",
       "0                 37MCTM               If conditional      2018-11-23   \n",
       "1                 37MCTM  Determiners and Quantifiers      2018-11-23   \n",
       "2                 37MCTM                       Modals      2018-11-23   \n",
       "3                 37MCTM                       Tenses      2018-11-13   \n",
       "4                 37MCTM                     Pronouns      2018-11-13   \n",
       "\n",
       "         Track Designation  Score  \n",
       "0  Engineering        Lead     18  \n",
       "1  Engineering        Lead     28  \n",
       "2  Engineering        Lead     22  \n",
       "3  Engineering        Lead     12  \n",
       "4  Engineering        Lead     15  "
      ]
     },
     "execution_count": 36,
     "metadata": {},
     "output_type": "execute_result"
    }
   ],
   "source": [
    "xls = pd.ExcelFile('DataTales.xlsx')\n",
    "test_scores = pd.read_excel(xls, 'Test scores')\n",
    "test_master = pd.read_excel(xls, 'Test master')\n",
    "test_scores.head()"
   ]
  },
  {
   "cell_type": "code",
   "execution_count": 3,
   "metadata": {},
   "outputs": [],
   "source": [
    "total_marks = 0;\n",
    "for index, row in test_master.iterrows():\n",
    "    #     print (row['No. of questions'])\n",
    "    total_marks += row['No. of questions'] * row['Marks per question']"
   ]
  },
  {
   "cell_type": "code",
   "execution_count": 4,
   "metadata": {},
   "outputs": [
    {
     "data": {
      "text/plain": [
       "480"
      ]
     },
     "execution_count": 4,
     "metadata": {},
     "output_type": "execute_result"
    }
   ],
   "source": [
    "total_marks"
   ]
  },
  {
   "cell_type": "code",
   "execution_count": 52,
   "metadata": {},
   "outputs": [],
   "source": [
    "total_designation = test_scores.groupby(['Designation'])"
   ]
  },
  {
   "cell_type": "code",
   "execution_count": 69,
   "metadata": {},
   "outputs": [],
   "source": [
    "count = total_designation['Score'].count().values"
   ]
  },
  {
   "cell_type": "code",
   "execution_count": 73,
   "metadata": {},
   "outputs": [],
   "source": [
    "keys = total_designation['Score'].sum().keys().values"
   ]
  },
  {
   "cell_type": "code",
   "execution_count": 65,
   "metadata": {},
   "outputs": [],
   "source": [
    "scores = total_designation['Score'].sum().values"
   ]
  },
  {
   "cell_type": "code",
   "execution_count": 82,
   "metadata": {},
   "outputs": [],
   "source": [
    "list_1 = list()    \n",
    "list_1.append(keys)"
   ]
  },
  {
   "cell_type": "code",
   "execution_count": 84,
   "metadata": {},
   "outputs": [],
   "source": [
    "list_1.append(count)"
   ]
  },
  {
   "cell_type": "code",
   "execution_count": 86,
   "metadata": {},
   "outputs": [],
   "source": [
    "list_1.append(scores)"
   ]
  },
  {
   "cell_type": "code",
   "execution_count": 92,
   "metadata": {},
   "outputs": [
    {
     "name": "stdout",
     "output_type": "stream",
     "text": [
      "[array(['Associate', 'Associate Director and above', 'Consultant', 'Lead',\n",
      "       'Manager'], dtype=object), array([2963,  542,  335, 3036,  707], dtype=int64), array([54817, 10568,  6849, 56106, 13820], dtype=int64)]\n"
     ]
    }
   ],
   "source": [
    "print (list_1)"
   ]
  },
  {
   "cell_type": "code",
   "execution_count": null,
   "metadata": {},
   "outputs": [],
   "source": []
  }
 ],
 "metadata": {
  "kernelspec": {
   "display_name": "Python 3",
   "language": "python",
   "name": "python3"
  },
  "language_info": {
   "codemirror_mode": {
    "name": "ipython",
    "version": 3
   },
   "file_extension": ".py",
   "mimetype": "text/x-python",
   "name": "python",
   "nbconvert_exporter": "python",
   "pygments_lexer": "ipython3",
   "version": "3.6.5"
  }
 },
 "nbformat": 4,
 "nbformat_minor": 2
}
