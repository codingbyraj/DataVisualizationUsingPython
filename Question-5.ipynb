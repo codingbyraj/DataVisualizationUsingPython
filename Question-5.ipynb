{
 "cells": [
  {
   "cell_type": "code",
   "execution_count": 32,
   "metadata": {},
   "outputs": [],
   "source": [
    "# top 10 scorer\n",
    "\n",
    "\n",
    "import pandas as pd\n",
    "import matplotlib.pyplot as plt\n",
    "from matplotlib.ticker import MaxNLocator"
   ]
  },
  {
   "cell_type": "code",
   "execution_count": 33,
   "metadata": {},
   "outputs": [],
   "source": [
    "xls = pd.ExcelFile('DataTales.xlsx')\n",
    "test_scores = pd.read_excel(xls, 'Test scores')\n",
    "test_master = pd.read_excel(xls, 'Test master')"
   ]
  },
  {
   "cell_type": "code",
   "execution_count": 34,
   "metadata": {},
   "outputs": [],
   "source": [
    "test  =test_scores[['Participant identifier', 'Test Name']]"
   ]
  },
  {
   "cell_type": "code",
   "execution_count": 35,
   "metadata": {},
   "outputs": [],
   "source": [
    "test_master = test_master[['Test name', 'Complexity']]"
   ]
  },
  {
   "cell_type": "code",
   "execution_count": 36,
   "metadata": {},
   "outputs": [],
   "source": [
    "easy = 0\n",
    "medium = 0\n",
    "difficult = 0\n",
    "\n",
    "for index, row in test.iterrows():\n",
    "    for i, r in test_master.iterrows():\n",
    "        if(r['Test name'] == row['Test Name']):\n",
    "            if(r['Complexity'] == 'Easy'):\n",
    "                easy = easy+1;\n",
    "            elif(r['Complexity'] == 'Medium'):\n",
    "                medium = medium+1;\n",
    "            else:\n",
    "                difficult = difficult + 1;"
   ]
  },
  {
   "cell_type": "code",
   "execution_count": 37,
   "metadata": {},
   "outputs": [
    {
     "data": {
      "text/plain": [
       "3593"
      ]
     },
     "execution_count": 37,
     "metadata": {},
     "output_type": "execute_result"
    }
   ],
   "source": [
    "easy"
   ]
  },
  {
   "cell_type": "code",
   "execution_count": 38,
   "metadata": {},
   "outputs": [
    {
     "data": {
      "text/plain": [
       "1802"
      ]
     },
     "execution_count": 38,
     "metadata": {},
     "output_type": "execute_result"
    }
   ],
   "source": [
    "medium"
   ]
  },
  {
   "cell_type": "code",
   "execution_count": 39,
   "metadata": {},
   "outputs": [
    {
     "data": {
      "text/plain": [
       "1832"
      ]
     },
     "execution_count": 39,
     "metadata": {},
     "output_type": "execute_result"
    }
   ],
   "source": [
    "difficult"
   ]
  },
  {
   "cell_type": "code",
   "execution_count": 52,
   "metadata": {},
   "outputs": [
    {
     "data": {
      "image/png": "[encoded data removed]",
      "text/plain": [
       "<Figure size 432x288 with 1 Axes>"
      ]
     },
     "metadata": {},
     "output_type": "display_data"
    }
   ],
   "source": [
    "import matplotlib.pyplot as plt\n",
    "data = [easy, medium, difficult]\n",
    "total = easy + medium + difficult\n",
    "easy_per = easy/total*100\n",
    "medium_per = medium/total*100\n",
    "diff_per = difficult/total*100\n",
    "per = [easy_per, medium_per, diff_per]\n",
    "labels = ['Easy','Medium','Difficult']\n",
    "explode = (0.01, 0.02, 0.03)\n",
    "colors = ['green', 'red', 'blue']\n",
    "\n",
    "fig1, ax1 = plt.subplots()\n",
    "ax1.pie(per, explode=explode, labels=labels, autopct='%1.1f%%', shadow=True, startangle=90, colors=colors)\n",
    "ax1.axis('equal')  # Equal aspect ratio ensures that pie is drawn as a circle.\n",
    "ax1.set_title('Complexity of test attempts')\n",
    "plt.show()"
   ]
  },
  {
   "cell_type": "code",
   "execution_count": null,
   "metadata": {},
   "outputs": [],
   "source": []
  }
 ],
 "metadata": {
  "kernelspec": {
   "display_name": "Python 3",
   "language": "python",
   "name": "python3"
  },
  "language_info": {
   "codemirror_mode": {
    "name": "ipython",
    "version": 3
   },
   "file_extension": ".py",
   "mimetype": "text/x-python",
   "name": "python",
   "nbconvert_exporter": "python",
   "pygments_lexer": "ipython3",
   "version": "3.6.5"
  }
 },
 "nbformat": 4,
 "nbformat_minor": 2
}
