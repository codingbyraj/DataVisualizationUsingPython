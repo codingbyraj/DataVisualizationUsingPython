{
 "cells": [
  {
   "cell_type": "code",
   "execution_count": 66,
   "metadata": {},
   "outputs": [],
   "source": [
    "# % of participants who took all test"
   ]
  },
  {
   "cell_type": "code",
   "execution_count": 1,
   "metadata": {},
   "outputs": [],
   "source": [
    "import pandas as pd"
   ]
  },
  {
   "cell_type": "code",
   "execution_count": 2,
   "metadata": {
    "scrolled": true
   },
   "outputs": [
    {
     "data": {
      "text/html": [
       "<div>\n",
       "<style scoped>\n",
       "    .dataframe tbody tr th:only-of-type {\n",
       "        vertical-align: middle;\n",
       "    }\n",
       "\n",
       "    .dataframe tbody tr th {\n",
       "        vertical-align: top;\n",
       "    }\n",
       "\n",
       "    .dataframe thead th {\n",
       "        text-align: right;\n",
       "    }\n",
       "</style>\n",
       "<table border=\"1\" class=\"dataframe\">\n",
       "  <thead>\n",
       "    <tr style=\"text-align: right;\">\n",
       "      <th></th>\n",
       "      <th>Participant identifier</th>\n",
       "      <th>Test Name</th>\n",
       "      <th>Test taken date</th>\n",
       "      <th>Track</th>\n",
       "      <th>Designation</th>\n",
       "      <th>Score</th>\n",
       "    </tr>\n",
       "  </thead>\n",
       "  <tbody>\n",
       "    <tr>\n",
       "      <th>0</th>\n",
       "      <td>37MCTM</td>\n",
       "      <td>If conditional</td>\n",
       "      <td>2018-11-23</td>\n",
       "      <td>Engineering</td>\n",
       "      <td>Lead</td>\n",
       "      <td>18</td>\n",
       "    </tr>\n",
       "    <tr>\n",
       "      <th>1</th>\n",
       "      <td>37MCTM</td>\n",
       "      <td>Determiners and Quantifiers</td>\n",
       "      <td>2018-11-23</td>\n",
       "      <td>Engineering</td>\n",
       "      <td>Lead</td>\n",
       "      <td>28</td>\n",
       "    </tr>\n",
       "    <tr>\n",
       "      <th>2</th>\n",
       "      <td>37MCTM</td>\n",
       "      <td>Modals</td>\n",
       "      <td>2018-11-23</td>\n",
       "      <td>Engineering</td>\n",
       "      <td>Lead</td>\n",
       "      <td>22</td>\n",
       "    </tr>\n",
       "    <tr>\n",
       "      <th>3</th>\n",
       "      <td>37MCTM</td>\n",
       "      <td>Tenses</td>\n",
       "      <td>2018-11-13</td>\n",
       "      <td>Engineering</td>\n",
       "      <td>Lead</td>\n",
       "      <td>12</td>\n",
       "    </tr>\n",
       "    <tr>\n",
       "      <th>4</th>\n",
       "      <td>37MCTM</td>\n",
       "      <td>Pronouns</td>\n",
       "      <td>2018-11-13</td>\n",
       "      <td>Engineering</td>\n",
       "      <td>Lead</td>\n",
       "      <td>15</td>\n",
       "    </tr>\n",
       "  </tbody>\n",
       "</table>\n",
       "</div>"
      ],
      "text/plain": [
       "  Participant identifier                    Test Name Test taken date  \\\n",
       "0                 37MCTM               If conditional      2018-11-23   \n",
       "1                 37MCTM  Determiners and Quantifiers      2018-11-23   \n",
       "2                 37MCTM                       Modals      2018-11-23   \n",
       "3                 37MCTM                       Tenses      2018-11-13   \n",
       "4                 37MCTM                     Pronouns      2018-11-13   \n",
       "\n",
       "         Track Designation  Score  \n",
       "0  Engineering        Lead     18  \n",
       "1  Engineering        Lead     28  \n",
       "2  Engineering        Lead     22  \n",
       "3  Engineering        Lead     12  \n",
       "4  Engineering        Lead     15  "
      ]
     },
     "execution_count": 2,
     "metadata": {},
     "output_type": "execute_result"
    }
   ],
   "source": [
    "xls = pd.ExcelFile('DataTales.xlsx')\n",
    "test_scores = pd.read_excel(xls, 'Test scores')\n",
    "test_master = pd.read_excel(xls, 'Test master')\n",
    "test_scores.head()"
   ]
  },
  {
   "cell_type": "code",
   "execution_count": 3,
   "metadata": {},
   "outputs": [],
   "source": [
    "numberof_test, col = test_master.shape"
   ]
  },
  {
   "cell_type": "code",
   "execution_count": 4,
   "metadata": {},
   "outputs": [],
   "source": [
    "# .size -  find the count of each group\n",
    "data = test_scores[['Participant identifier','Test Name']].groupby(['Participant identifier']).size()"
   ]
  },
  {
   "cell_type": "code",
   "execution_count": 5,
   "metadata": {},
   "outputs": [],
   "source": [
    "person_taken_all_test = []\n",
    "for i, d in data.items():\n",
    "    if(d == numberof_test):\n",
    "        person_taken_all_test.append(i)"
   ]
  },
  {
   "cell_type": "code",
   "execution_count": 6,
   "metadata": {},
   "outputs": [
    {
     "data": {
      "text/plain": [
       "['10GFGV',\n",
       " '11HLKL',\n",
       " '12NCQA',\n",
       " '13DJII',\n",
       " '13TOGJ',\n",
       " '14LXXT',\n",
       " '15TBZX',\n",
       " '15XPYB',\n",
       " '16BZQZ',\n",
       " '16RSGW',\n",
       " '16SQHE',\n",
       " '16VEDE',\n",
       " '16XIRN',\n",
       " '17BNQF',\n",
       " '18ETRZ',\n",
       " '18KYHL',\n",
       " '18NIJQ',\n",
       " '18UYTF',\n",
       " '18YFXD',\n",
       " '19PDTD',\n",
       " '19SKOE',\n",
       " '20CMMD',\n",
       " '20JLTL',\n",
       " '20KDHP',\n",
       " '21BNHA',\n",
       " '22BIOQ',\n",
       " '23DJAF',\n",
       " '23KBRK',\n",
       " '23RENW',\n",
       " '24GXPB',\n",
       " '24IIVE',\n",
       " '24ZZXG',\n",
       " '25AHKM',\n",
       " '25ETWS',\n",
       " '26MXPO',\n",
       " '28SLBG',\n",
       " '28WPOO',\n",
       " '29NAAA',\n",
       " '29QKAR',\n",
       " '29QVDW',\n",
       " '29RTCX',\n",
       " '29YPAK',\n",
       " '30GQEJ',\n",
       " '30HPSV',\n",
       " '30PMJV',\n",
       " '30TORA',\n",
       " '31CISZ',\n",
       " '31DXDS',\n",
       " '31MRRD',\n",
       " '32KMCY',\n",
       " '33IODW',\n",
       " '33WWXE',\n",
       " '34EVCZ',\n",
       " '34KPXU',\n",
       " '34MEFP',\n",
       " '34ONIT',\n",
       " '35DBEQ',\n",
       " '35LHFG',\n",
       " '35TSBG',\n",
       " '35UABM',\n",
       " '35ZGNH',\n",
       " '36ASDD',\n",
       " '36DRJV',\n",
       " '36FQRX',\n",
       " '36UPFY',\n",
       " '37ATSE',\n",
       " '37XTHB',\n",
       " '38HIUF',\n",
       " '38RUDO',\n",
       " '38ZWQB',\n",
       " '39AMRV',\n",
       " '39NATA',\n",
       " '40CHIZ',\n",
       " '41APAJ',\n",
       " '41NGML',\n",
       " '43BZYT',\n",
       " '43RTIY',\n",
       " '45KDIW',\n",
       " '45TQMB',\n",
       " '45YPMH',\n",
       " '46OKZN',\n",
       " '47CMEO',\n",
       " '47QCWW',\n",
       " '50JMCT',\n",
       " '50QMJX',\n",
       " '50VFRV',\n",
       " '51VVMG',\n",
       " '52FAPW',\n",
       " '54ASMZ',\n",
       " '56CQZX',\n",
       " '56JTHH',\n",
       " '57MZRP',\n",
       " '58TQWK',\n",
       " '58XOGL',\n",
       " '59GAGW',\n",
       " '59RVVH',\n",
       " '61CYPP',\n",
       " '61MDWO',\n",
       " '61XYAN',\n",
       " '63AKOO',\n",
       " '63NJCB',\n",
       " '63UZPY',\n",
       " '63ZIEK',\n",
       " '64USKT',\n",
       " '65JZNZ',\n",
       " '65QZUB',\n",
       " '65ULGB',\n",
       " '66HTPY',\n",
       " '67FPXY',\n",
       " '67QGLX',\n",
       " '67UEHF',\n",
       " '67UIHW',\n",
       " '69CPGV',\n",
       " '69DMJE',\n",
       " '69QDDZ',\n",
       " '70CGCM',\n",
       " '70GNFQ',\n",
       " '70YKNP',\n",
       " '71BLLG',\n",
       " '71GRLW',\n",
       " '71SFZE',\n",
       " '71VZJH',\n",
       " '71WCEA',\n",
       " '71ZYSX',\n",
       " '73EZSR',\n",
       " '73GZLK',\n",
       " '73IQKB',\n",
       " '73WOZC',\n",
       " '74CNWY',\n",
       " '74JSCO',\n",
       " '74UHNK',\n",
       " '74XURA',\n",
       " '75OMAS',\n",
       " '75ONXU',\n",
       " '75XDPZ',\n",
       " '77CHXM',\n",
       " '78EFTJ',\n",
       " '78MWRF',\n",
       " '79FLWF',\n",
       " '79RZKY',\n",
       " '81AIBP',\n",
       " '81FDXN',\n",
       " '81FPXS',\n",
       " '81UEYE',\n",
       " '82BWXQ',\n",
       " '82TDKB',\n",
       " '83IPRQ',\n",
       " '84APDL',\n",
       " '85DPZD',\n",
       " '86KPLY',\n",
       " '86NEFE',\n",
       " '86OYOK',\n",
       " '87FOTT',\n",
       " '87KCLV',\n",
       " '87WUXS',\n",
       " '88CNBU',\n",
       " '88HOGU',\n",
       " '89GIAX',\n",
       " '89OZLQ',\n",
       " '90UDUO',\n",
       " '91IETE',\n",
       " '91VVID',\n",
       " '92VHWG',\n",
       " '93CLFW',\n",
       " '93DTHN',\n",
       " '94LBGJ',\n",
       " '94SIIU',\n",
       " '95NCJS',\n",
       " '95NGWU',\n",
       " '95PSYE',\n",
       " '95UROK',\n",
       " '95YPOV',\n",
       " '96JYRB',\n",
       " '96TSCG',\n",
       " '97MAEI',\n",
       " '97VUYD',\n",
       " '98MRUP',\n",
       " '98XDFR',\n",
       " '99BJJD',\n",
       " '99GAXQ',\n",
       " '99HJIC',\n",
       " '99ZNTI']"
      ]
     },
     "execution_count": 6,
     "metadata": {},
     "output_type": "execute_result"
    }
   ],
   "source": [
    "person_taken_all_test"
   ]
  },
  {
   "cell_type": "code",
   "execution_count": 7,
   "metadata": {},
   "outputs": [],
   "source": [
    "num_of_person_taken_all_test = len(person_taken_all_test)"
   ]
  },
  {
   "cell_type": "code",
   "execution_count": 8,
   "metadata": {},
   "outputs": [],
   "source": [
    "total_person_taken_test = data.size"
   ]
  },
  {
   "cell_type": "code",
   "execution_count": 9,
   "metadata": {},
   "outputs": [],
   "source": [
    "all_exam_percentage = num_of_person_taken_all_test / total_person_taken_test * 100"
   ]
  },
  {
   "cell_type": "code",
   "execution_count": 10,
   "metadata": {},
   "outputs": [],
   "source": [
    "all_exam_percentage\n",
    "not_all_exam_taken_percentage = 100 - all_exam_percentage"
   ]
  },
  {
   "cell_type": "code",
   "execution_count": 11,
   "metadata": {},
   "outputs": [],
   "source": [
    "percentage = [all_exam_percentage, not_all_exam_taken_percentage]\n",
    "labels = [\"Users who attended all test\", \"Users who does not attended all test\"]\n",
    "explode = (0.05, 0)\n",
    "colors = ['green', 'red']"
   ]
  },
  {
   "cell_type": "code",
   "execution_count": 12,
   "metadata": {},
   "outputs": [
    {
     "data": {
      "text/plain": [
       "[17.533718689788053, 82.46628131021194]"
      ]
     },
     "execution_count": 12,
     "metadata": {},
     "output_type": "execute_result"
    }
   ],
   "source": [
    "percentage"
   ]
  },
  {
   "cell_type": "code",
   "execution_count": 14,
   "metadata": {},
   "outputs": [
    {
     "data": {
      "image/png": "[encoded data removed]",
      "text/plain": [
       "<Figure size 432x288 with 1 Axes>"
      ]
     },
     "metadata": {},
     "output_type": "display_data"
    }
   ],
   "source": [
    "import matplotlib.pyplot as plt\n",
    "\n",
    "fig1, ax1 = plt.subplots()\n",
    "ax1.pie(percentage, explode=explode, labels=labels, autopct='%1.1f%%', shadow=True, startangle=90, colors=colors)\n",
    "ax1.axis('equal')  # Equal aspect ratio ensures that pie is drawn as a circle.\n",
    "plt.show()"
   ]
  },
  {
   "cell_type": "code",
   "execution_count": null,
   "metadata": {},
   "outputs": [],
   "source": []
  },
  {
   "cell_type": "code",
   "execution_count": null,
   "metadata": {},
   "outputs": [],
   "source": []
  }
 ],
 "metadata": {
  "kernelspec": {
   "display_name": "Python 3",
   "language": "python",
   "name": "python3"
  },
  "language_info": {
   "codemirror_mode": {
    "name": "ipython",
    "version": 3
   },
   "file_extension": ".py",
   "mimetype": "text/x-python",
   "name": "python",
   "nbconvert_exporter": "python",
   "pygments_lexer": "ipython3",
   "version": "3.6.5"
  }
 },
 "nbformat": 4,
 "nbformat_minor": 2
}
